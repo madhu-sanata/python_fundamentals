{
 "cells": [
  {
   "cell_type": "code",
   "execution_count": 4,
   "metadata": {},
   "outputs": [
    {
     "name": "stdout",
     "output_type": "stream",
     "text": [
      "['madhu', 'sri', 'sana']\n"
     ]
    }
   ],
   "source": [
    "#how to define a list : [] \n",
    "\n",
    "students = ['madhu','sri','sana']\n",
    "\n",
    "print(students)"
   ]
  },
  {
   "cell_type": "code",
   "execution_count": 5,
   "metadata": {},
   "outputs": [
    {
     "data": {
      "text/plain": [
       "list"
      ]
     },
     "execution_count": 5,
     "metadata": {},
     "output_type": "execute_result"
    }
   ],
   "source": [
    "\n",
    "type(students)"
   ]
  },
  {
   "cell_type": "code",
   "execution_count": 6,
   "metadata": {},
   "outputs": [
    {
     "name": "stdout",
     "output_type": "stream",
     "text": [
      "madhu\n"
     ]
    }
   ],
   "source": [
    "x = students[0]\n",
    "print(x)"
   ]
  },
  {
   "cell_type": "code",
   "execution_count": 11,
   "metadata": {},
   "outputs": [
    {
     "name": "stdout",
     "output_type": "stream",
     "text": [
      "sri\n",
      "sana\n"
     ]
    }
   ],
   "source": [
    "y = students[1]\n",
    "z = students[2] \n",
    "print(y)\n",
    "print (z) "
   ]
  },
  {
   "cell_type": "code",
   "execution_count": 12,
   "metadata": {},
   "outputs": [
    {
     "name": "stdout",
     "output_type": "stream",
     "text": [
      "Sri\n"
     ]
    }
   ],
   "source": [
    "print(students[1].title())"
   ]
  },
  {
   "cell_type": "code",
   "execution_count": 14,
   "metadata": {},
   "outputs": [
    {
     "name": "stdout",
     "output_type": "stream",
     "text": [
      "welcome to core python class , Madhu\n"
     ]
    }
   ],
   "source": [
    "message = f\"welcome to core python class , {students[0].title()}\"\n",
    "print(message)"
   ]
  },
  {
   "cell_type": "code",
   "execution_count": 16,
   "metadata": {},
   "outputs": [
    {
     "name": "stdout",
     "output_type": "stream",
     "text": [
      "['aa', 'bb', 'cc', 'dd', 'ee']\n",
      "['ff', 'bb', 'cc', 'dd', 'ee']\n"
     ]
    }
   ],
   "source": [
    "#changing, adding and removing elements in the list ** interview question \n",
    "\n",
    "mystudents = ['aa','bb','cc','dd','ee']\n",
    "print(mystudents)\n",
    "\n",
    "mystudents[0] = 'ff'\n",
    "print(mystudents)"
   ]
  },
  {
   "cell_type": "code",
   "execution_count": 17,
   "metadata": {},
   "outputs": [
    {
     "name": "stdout",
     "output_type": "stream",
     "text": [
      "['ff', 'bb', 'cc', 'dd', 'ee', 'gg']\n"
     ]
    }
   ],
   "source": [
    "#Adding elements to the list \n",
    "\n",
    "#append -- always adds the elements at the last\n",
    "\n",
    "mystudents.append('gg')\n",
    "print(mystudents)"
   ]
  },
  {
   "cell_type": "code",
   "execution_count": 22,
   "metadata": {},
   "outputs": [
    {
     "name": "stdout",
     "output_type": "stream",
     "text": [
      "['ff', 'bb', 'add_@_specific_position', 'cc', 'dd', 'ee', 'gg']\n"
     ]
    }
   ],
   "source": [
    "#Adding elements at the specific position \n",
    "\n",
    "mystudents.insert(2,'add_@_specific_position') \n",
    "print(mystudents)"
   ]
  },
  {
   "cell_type": "code",
   "execution_count": 23,
   "metadata": {},
   "outputs": [
    {
     "name": "stdout",
     "output_type": "stream",
     "text": [
      "['ff', 'bb', 'cc', 'dd', 'ee', 'gg']\n"
     ]
    }
   ],
   "source": [
    "#removing elements from the list \n",
    "\n",
    "del mystudents[2]\n",
    "\n",
    "print(mystudents)\n"
   ]
  },
  {
   "cell_type": "code",
   "execution_count": 24,
   "metadata": {},
   "outputs": [
    {
     "name": "stdout",
     "output_type": "stream",
     "text": [
      "['ff', 'bb', 'cc', 'dd', 'ee', 'gg']\n"
     ]
    }
   ],
   "source": [
    "#**pop() .. method -- this is also used to remove elements from the list \n",
    "\n",
    "#--> it will remove the elements from the last/end\n",
    "\n",
    "print(mystudents)"
   ]
  },
  {
   "cell_type": "code",
   "execution_count": 25,
   "metadata": {},
   "outputs": [
    {
     "name": "stdout",
     "output_type": "stream",
     "text": [
      "['ff', 'bb', 'cc', 'dd', 'ee']\n"
     ]
    }
   ],
   "source": [
    "mystudents.pop()\n",
    "\n",
    "print(mystudents)"
   ]
  },
  {
   "cell_type": "code",
   "execution_count": 26,
   "metadata": {},
   "outputs": [
    {
     "name": "stdout",
     "output_type": "stream",
     "text": [
      "['ff', 'bb', 'cc', 'ee']\n"
     ]
    }
   ],
   "source": [
    "#removing or deleting specific elements from list \n",
    "\n",
    "mystudents.pop(3)\n",
    "\n",
    "print(mystudents)"
   ]
  },
  {
   "cell_type": "code",
   "execution_count": null,
   "metadata": {},
   "outputs": [],
   "source": []
  }
 ],
 "metadata": {
  "kernelspec": {
   "display_name": "Python 3",
   "language": "python",
   "name": "python3"
  },
  "language_info": {
   "codemirror_mode": {
    "name": "ipython",
    "version": 3
   },
   "file_extension": ".py",
   "mimetype": "text/x-python",
   "name": "python",
   "nbconvert_exporter": "python",
   "pygments_lexer": "ipython3",
   "version": "3.7.3"
  }
 },
 "nbformat": 4,
 "nbformat_minor": 2
}
