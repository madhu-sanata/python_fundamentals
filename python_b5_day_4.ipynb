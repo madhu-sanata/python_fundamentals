{
 "cells": [
  {
   "cell_type": "code",
   "execution_count": 1,
   "metadata": {},
   "outputs": [],
   "source": [
    "#Organizing a list \n"
   ]
  },
  {
   "cell_type": "code",
   "execution_count": 2,
   "metadata": {},
   "outputs": [
    {
     "name": "stdout",
     "output_type": "stream",
     "text": [
      "['audi', 'benz', 'bmw', 'toyota']\n"
     ]
    }
   ],
   "source": [
    "cars = ['bmw','audi','toyota','benz']\n",
    "# how to sort a list?\n",
    "cars.sort()\n",
    "print (cars)"
   ]
  },
  {
   "cell_type": "code",
   "execution_count": 3,
   "metadata": {},
   "outputs": [
    {
     "name": "stdout",
     "output_type": "stream",
     "text": [
      "['toyota', 'bmw', 'benz', 'audi']\n"
     ]
    }
   ],
   "source": [
    "#sorting in descending order \n",
    "\n",
    "cars.sort(reverse = True)\n",
    "print(cars)"
   ]
  },
  {
   "cell_type": "code",
   "execution_count": 9,
   "metadata": {},
   "outputs": [
    {
     "name": "stdout",
     "output_type": "stream",
     "text": [
      "sana\n",
      "manu\n",
      "somu\n",
      "sharavan\n"
     ]
    }
   ],
   "source": [
    "#introduction to loop\n",
    "#For loop \n",
    "\n",
    "stu = ['sana','manu','somu','sharavan']\n",
    "\n",
    "for i in stu: # i is temp variable \n",
    " print(i)\n",
    "\n",
    "#looping : goes inside a list and iterate through each and every element present int he list, it will come out of the loop"
   ]
  },
  {
   "cell_type": "code",
   "execution_count": 12,
   "metadata": {},
   "outputs": [
    {
     "name": "stdout",
     "output_type": "stream",
     "text": [
      "Sana,good work\n",
      "Manu,good work\n",
      "Somu,good work\n",
      "Sharavan,good work\n"
     ]
    }
   ],
   "source": [
    "stu = ['sana','manu','somu','sharavan']\n",
    "\n",
    "for i in stu: # i is temp variable \n",
    " print(f\"{i.title()},good work\")"
   ]
  },
  {
   "cell_type": "code",
   "execution_count": null,
   "metadata": {},
   "outputs": [],
   "source": []
  }
 ],
 "metadata": {
  "kernelspec": {
   "display_name": "Python 3",
   "language": "python",
   "name": "python3"
  },
  "language_info": {
   "codemirror_mode": {
    "name": "ipython",
    "version": 3
   },
   "file_extension": ".py",
   "mimetype": "text/x-python",
   "name": "python",
   "nbconvert_exporter": "python",
   "pygments_lexer": "ipython3",
   "version": "3.7.3"
  }
 },
 "nbformat": 4,
 "nbformat_minor": 2
}
